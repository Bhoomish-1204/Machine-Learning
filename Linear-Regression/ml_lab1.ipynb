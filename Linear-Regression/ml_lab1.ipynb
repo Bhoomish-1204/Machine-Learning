{
  "nbformat": 4,
  "nbformat_minor": 0,
  "metadata": {
    "colab": {
      "provenance": []
    },
    "kernelspec": {
      "name": "python3",
      "display_name": "Python 3"
    },
    "language_info": {
      "name": "python"
    }
  },
  "cells": [
    {
      "cell_type": "code",
      "execution_count": 2,
      "metadata": {
        "id": "L0r6mAYRuGOr"
      },
      "outputs": [],
      "source": [
        "import pandas as pd\n",
        "from sklearn.model_selection import train_test_split\n",
        "from sklearn.linear_model import LinearRegression\n",
        "from sklearn.metrics import mean_squared_error, r2_score"
      ]
    },
    {
      "cell_type": "markdown",
      "source": [
        "Dataset"
      ],
      "metadata": {
        "id": "bvk3oT9VxBOd"
      }
    },
    {
      "cell_type": "code",
      "source": [
        "dataset = {\n",
        "    'trip_kilometer':[3.2,1.0,5.5,2.3,0.8,7.4,3.5,4.2,1.5,6.0],\n",
        "    'trip_duration(sec)':[600,300,900,420,180,1200,700,850,260,1000],\n",
        "    'pickup_area':[8,10,22,15,8,33,2,16,7,25],\n",
        "    'dropoff_area':[32,12,20,18,8,12,5,22,7,35],\n",
        "    'price':[12.5,7.0,18.2,10.0,5.5,22.3,13.1,15.0,8.5,20.0]\n",
        "}"
      ],
      "metadata": {
        "id": "-2FStur8w-BW"
      },
      "execution_count": 4,
      "outputs": []
    },
    {
      "cell_type": "code",
      "source": [
        "data = pd.DataFrame(dataset)"
      ],
      "metadata": {
        "id": "hgTV-Up3zMtd"
      },
      "execution_count": 7,
      "outputs": []
    },
    {
      "cell_type": "code",
      "source": [
        "x = data[['trip_kilometer','trip_duration(insec)','pickup_area','dropoff_area']]\n",
        "y = data[['price']]\n",
        "\n",
        "x_train,x_test,y_train,y_test = train_test_split(x,y,test_size=0.2,random_state=42)"
      ],
      "metadata": {
        "id": "KPmqhXYP0XlZ"
      },
      "execution_count": 10,
      "outputs": []
    },
    {
      "cell_type": "code",
      "source": [
        "model=LinearRegression()\n",
        "model.fit(x_train,y_train)\n",
        "\n",
        "prediction=model.predict(x_test)\n"
      ],
      "metadata": {
        "id": "ZxjycYK-0ZOa"
      },
      "execution_count": 14,
      "outputs": []
    },
    {
      "cell_type": "markdown",
      "source": [
        "Predicted values"
      ],
      "metadata": {
        "id": "iwQwJ-JH01ii"
      }
    },
    {
      "cell_type": "code",
      "source": [
        "print(\"Predicted price: \",prediction)\n",
        "print(\"Actual price: \",y_test.values)\n",
        "print(\"R^2 score:\" ,r2_score(y_test,prediction))\n",
        "print(\"MSE :\",mean_squared_error(y_test,prediction))"
      ],
      "metadata": {
        "colab": {
          "base_uri": "https://localhost:8080/"
        },
        "id": "oPm4uiM20hns",
        "outputId": "bd2593e7-0859-4137-c5ca-ec8955e406f7"
      },
      "execution_count": 16,
      "outputs": [
        {
          "output_type": "stream",
          "name": "stdout",
          "text": [
            "Predicted price:  [[7.45849951]\n",
            " [6.3456551 ]]\n",
            "Actual price:  [[8.5]\n",
            " [7. ]]\n",
            "R^2 score: -0.3447915714397316\n",
            "MSE : 0.756445258934849\n"
          ]
        }
      ]
    }
  ]
}